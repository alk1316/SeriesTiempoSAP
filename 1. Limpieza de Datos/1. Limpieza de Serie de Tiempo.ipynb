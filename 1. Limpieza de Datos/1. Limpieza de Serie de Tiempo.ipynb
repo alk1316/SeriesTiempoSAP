{
 "cells": [
  {
   "cell_type": "markdown",
   "id": "f690d9a2-3718-4357-9903-3f7f346cd3b8",
   "metadata": {},
   "source": [
    "# Funcion de limpieza inicial"
   ]
  },
  {
   "cell_type": "markdown",
   "id": "6243731f-6c26-4d78-8573-f9849c49799c",
   "metadata": {},
   "source": [
    "## Esta función toma el CSV resultado del query SAP realizando lo siguiente:\n",
    "\n",
    "1. Solo utiliza las columnas DocDate, ItemCode, Quantity\n",
    "2. Transforma la columna DocDate a Timestamp\n",
    "3. Agrupa las cantidades vendidas por Dia y por codigo de SKU\n",
    "4. Se filtran las ventas en un rango de fechas desde y hasta\n",
    "5. Crea un calendario hasta la fecha hasta\n",
    "6. Completa los dias faltantes hasta la fecha_hasta desde la fecha de venta minima de cada producto\n",
    "7. Autocompleta dias sin ventas con cero\n",
    "8. Devuelve un df en formato largo donde el tiempo es el indice"
   ]
  },
  {
   "cell_type": "code",
   "execution_count": null,
   "id": "e46535e1-517d-435c-afc3-05a44fbfae29",
   "metadata": {},
   "outputs": [],
   "source": [
    "import pandas as pd\n",
    "\n",
    "def preparar_series_tiempo(\n",
    "    file_path,\n",
    "    fecha_desde,\n",
    "    fecha_hasta,\n",
    "    col_fecha='DocDate',\n",
    "    col_sku='ItemCode',\n",
    "    col_qty='Quantity'\n",
    "):\n",
    "    \"\"\"\n",
    "    Prepara un DataFrame de series de tiempo por SKU, completando fechas faltantes\n",
    "    dinámicamente desde la primera venta de cada SKU hasta fecha_hasta.\n",
    "    \n",
    "    Devuelve un DataFrame en formato largo con índice temporal.\n",
    "    \"\"\"\n",
    "    \n",
    "    # 1. Carga del CSV\n",
    "    df = pd.read_csv(file_path)\n",
    "    \n",
    "    # 2. Selección de columnas\n",
    "    df = df[[col_fecha, col_sku, col_qty]]\n",
    "    \n",
    "    # 3. Conversión a datetime\n",
    "    df[col_fecha] = pd.to_datetime(df[col_fecha])\n",
    "    \n",
    "    # 4. Agrupamos cantidades por día y SKU\n",
    "    df = df.groupby([col_sku, col_fecha])[col_qty].sum().reset_index()\n",
    "    \n",
    "    # 5. Filtro rango global\n",
    "    df = df[(df[col_fecha] >= fecha_desde) & (df[col_fecha] <= fecha_hasta)]\n",
    "    \n",
    "    # 6. Función interna para completar calendario dinámico por SKU\n",
    "    def completar_calendario(grupo):\n",
    "        fecha_inicio = max(grupo[col_fecha].min(), pd.to_datetime(fecha_desde))\n",
    "        calendario = pd.date_range(start=fecha_inicio, end=fecha_hasta, freq='D')\n",
    "        grupo = grupo.set_index(col_fecha).reindex(calendario, fill_value=0)\n",
    "        grupo = grupo.rename_axis(col_fecha).reset_index()\n",
    "        grupo[col_sku] = grupo[col_sku].iloc[0]\n",
    "        return grupo\n",
    "    \n",
    "    # 7. Aplicamos por SKU\n",
    "    df_final = df.groupby(col_sku, group_keys=False).apply(completar_calendario)\n",
    "    \n",
    "    # 8. Reordenamos columnas y ponemos índice temporal\n",
    "    df_final = df_final[[col_fecha, col_sku, col_qty]].set_index(col_fecha)\n",
    "    \n",
    "    return df_final"
   ]
  },
  {
   "cell_type": "code",
   "execution_count": null,
   "id": "7ffb8eaa-41b9-48fd-93a3-dabdde54d453",
   "metadata": {},
   "outputs": [],
   "source": [
    "## Ejemplo de Como usar la funcion\n",
    "df = preparar_series_tiempo('SALES.csv', fecha_desde='2024-01-01', fecha_hasta='2024-12-31')"
   ]
  },
  {
   "cell_type": "markdown",
   "id": "2c517056-6963-4fc5-941b-d9b61a1a8ad6",
   "metadata": {},
   "source": [
    "# Filtro de datos y visualizacion"
   ]
  },
  {
   "cell_type": "code",
   "execution_count": null,
   "id": "4a85cac7-a50b-4f69-aa18-2ec7ba365f76",
   "metadata": {},
   "outputs": [],
   "source": [
    "## Impresion de total ventas de mayor a menor\n",
    "df.groupby(['ItemCode'])['Quantity'].sum().sort_values(ascending=False)"
   ]
  },
  {
   "cell_type": "code",
   "execution_count": null,
   "id": "2eb5053c-253c-4dfb-89a1-89013b5a4867",
   "metadata": {},
   "outputs": [],
   "source": [
    "## Si quiero filtrar ciertos productos para validar la funcion y graficar \n",
    "\n",
    "import seaborn as sns\n",
    "import matplotlib.pyplot as plt\n",
    "\n",
    "# Filtrar los productos deseados\n",
    "df_filtered = df[df['ItemCode'].isin(['1001016056', '1001005059'])].reset_index()\n",
    "\n",
    "# Gráfico de líneas\n",
    "plt.figure(figsize=(14, 6))\n",
    "sns.lineplot(\n",
    "    data=df_filtered,\n",
    "    x='DocDate',\n",
    "    y='Quantity',\n",
    "    hue='ItemCode'\n",
    ")\n",
    "\n",
    "# Estilo del gráfico\n",
    "plt.title(\"Evolución de Ventas para Productos Seleccionados\", fontsize=14)\n",
    "plt.xlabel(\"Fecha\")\n",
    "plt.ylabel(\"Cantidad Vendida\")\n",
    "plt.legend(title=\"ItemCode\")\n",
    "plt.xticks(rotation=45)\n",
    "plt.tight_layout()\n",
    "plt.show()"
   ]
  }
 ],
 "metadata": {
  "kernelspec": {
   "display_name": "Python 3 (ipykernel)",
   "language": "python",
   "name": "python3"
  },
  "language_info": {
   "codemirror_mode": {
    "name": "ipython",
    "version": 3
   },
   "file_extension": ".py",
   "mimetype": "text/x-python",
   "name": "python",
   "nbconvert_exporter": "python",
   "pygments_lexer": "ipython3",
   "version": "3.9.19"
  }
 },
 "nbformat": 4,
 "nbformat_minor": 5
}
