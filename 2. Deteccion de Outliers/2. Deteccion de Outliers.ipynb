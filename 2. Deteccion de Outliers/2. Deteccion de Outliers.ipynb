{
 "cells": [
  {
   "cell_type": "markdown",
   "id": "f690d9a2-3718-4357-9903-3f7f346cd3b8",
   "metadata": {},
   "source": [
    "# Funciones para Detección de Outliers"
   ]
  },
  {
   "cell_type": "markdown",
   "id": "6243731f-6c26-4d78-8573-f9849c49799c",
   "metadata": {},
   "source": [
    "## Se crean dos funciones para identificar Outliers y una funcion para visualizar graficamente la serie de tiempo y sus valores atipicos:\n",
    "\n",
    "1. Detección de Outliers con método Tukey.\n",
    "2. Función que itera sobre todos los SKU y crea una nueva columna con los outliers detectados por día.\n",
    "\n",
    "No se eliminan ni se reemplazan los Outliers, ya que eso depende del conocimiento de cada negocio. El objetivo es identificarlos estadísticamente y que sea el usuario los que decidan editarlos en una interfaz gráfica. El resultado final será la demanda ajustada a los que se le aplicará los distintos métodos de proyección de demanda."
   ]
  },
  {
   "cell_type": "markdown",
   "id": "633117e3-ab74-4d17-8727-3b4d068a9e11",
   "metadata": {},
   "source": [
    "## FUNCION 1 PARA DETECTAR OUTLIERS POR METODO TUKEY"
   ]
  },
  {
   "cell_type": "code",
   "execution_count": null,
   "id": "e46535e1-517d-435c-afc3-05a44fbfae29",
   "metadata": {},
   "outputs": [],
   "source": [
    "import numpy as np\n",
    "\n",
    "def outliers_tukey(serie):\n",
    "    '''Detecta los \"outliers\" en la Serie de Tiempo usando\n",
    "    el método de Tukey.\n",
    "    \n",
    "    Entradas:\n",
    "    - serie: la Serie de Tiempo (DataFrame de Pandas)\n",
    "    \n",
    "    Salida:\n",
    "    - outliers: DataFrame de Pandas con los valores extremos detectados\n",
    "    '''\n",
    "    \n",
    "    # 1. Calcular Q1 y Q3\n",
    "    q1, q3 = np.percentile(serie, [25, 75])\n",
    "    \n",
    "    # 2. Calcular IQR\n",
    "    IQR = q3 - q1\n",
    "    \n",
    "    # 3. Calcular límites superior e inferior\n",
    "    lim_sup = q3 + 1.5*IQR\n",
    "    lim_inf = q1 - 1.5*IQR\n",
    "    \n",
    "    # 4. Filtrar serie de tiempo para detectar los outliers\n",
    "    outliers = serie[(serie.to_numpy() > lim_sup) | (serie.to_numpy() < lim_inf)]\n",
    "    \n",
    "    return outliers"
   ]
  },
  {
   "cell_type": "markdown",
   "id": "149fba33-8947-4223-9a6c-52f8f588ebf0",
   "metadata": {},
   "source": [
    "Ejemplo de Como usar la función con un solo SKU.\n",
    "\n",
    "Esta función toma el return de la función 'preparar_series_tiempo'"
   ]
  },
  {
   "cell_type": "code",
   "execution_count": null,
   "id": "7ffb8eaa-41b9-48fd-93a3-dabdde54d453",
   "metadata": {},
   "outputs": [],
   "source": [
    "## Ejemplo de Como usar la funcion con un solo SKU\n",
    "outliers = outliers_tukey(df_filtered['Quantity'])"
   ]
  },
  {
   "cell_type": "markdown",
   "id": "2c517056-6963-4fc5-941b-d9b61a1a8ad6",
   "metadata": {},
   "source": [
    "## FUNCION 2 PARA DETECTAR OUTLIERS POR CADA SKU"
   ]
  },
  {
   "cell_type": "code",
   "execution_count": 2,
   "id": "4a85cac7-a50b-4f69-aa18-2ec7ba365f76",
   "metadata": {},
   "outputs": [],
   "source": [
    "import numpy as np\n",
    "import pandas as pd\n",
    "\n",
    "def detectar_outliers_tukey(df, col_sku='ItemCode', col_qty='Quantity', col_outlier='Outlier'):\n",
    "    \"\"\"\n",
    "    Detecta outliers en un DataFrame de series de tiempo por SKU usando el método de Tukey.\n",
    "    \n",
    "    Parámetros:\n",
    "    - df: DataFrame con DatetimeIndex, columna SKU y columna de valores\n",
    "    - col_sku: nombre de la columna con los SKU\n",
    "    - col_qty: nombre de la columna con los valores\n",
    "    - col_outlier: nombre de la columna que contendrá los valores detectados como outliers\n",
    "    \n",
    "    Devuelve:\n",
    "    - df con una columna extra col_outlier: valores si son outliers, NaN si no\n",
    "    \"\"\"\n",
    "    \n",
    "    # Inicializamos columna de outliers con NaN\n",
    "    df[col_outlier] = np.nan\n",
    "    \n",
    "    # Función interna para detectar outliers por serie\n",
    "    def outliers_tukey(serie):\n",
    "        q1, q3 = np.percentile(serie, [25, 75])\n",
    "        IQR = q3 - q1\n",
    "        lim_inf = q1 - 1.5*IQR\n",
    "        lim_sup = q3 + 1.5*IQR\n",
    "        out = serie[(serie < lim_inf) | (serie > lim_sup)]\n",
    "        return out\n",
    "    \n",
    "    # Aplicamos por SKU\n",
    "    for sku, grupo in df.groupby(col_sku):\n",
    "        out = outliers_tukey(grupo[col_qty])\n",
    "        df.loc[out.index, col_outlier] = out\n",
    "    \n",
    "    return df"
   ]
  },
  {
   "cell_type": "markdown",
   "id": "b46fe6ad-2021-4796-83b7-f9afd775b0f8",
   "metadata": {},
   "source": [
    "Ejemplo de Como usar la función para todos los SKU resultado de la función 'preparar_series_tiempo'"
   ]
  },
  {
   "cell_type": "code",
   "execution_count": null,
   "id": "f8c73d11-2ca6-4f57-b33a-c725f15f8545",
   "metadata": {},
   "outputs": [],
   "source": [
    "# df_series es el DataFrame que devolvió preparar_series_tiempo\n",
    "df_con_outliers = detectar_outliers_tukey(df)"
   ]
  },
  {
   "cell_type": "markdown",
   "id": "49584b9c-076c-44c2-9631-d76743d8619d",
   "metadata": {},
   "source": [
    "## FUNCION 3 GRAFICA DE SERIE DE TIEMPO CON OUTLIERS"
   ]
  },
  {
   "cell_type": "markdown",
   "id": "efc3efc4-a21e-4ec2-b066-d0686cf91775",
   "metadata": {},
   "source": [
    "En caso de querer filtrar por un solo producto y visualizar la grafica de la serie de tiempo y sus valores Outliers."
   ]
  },
  {
   "cell_type": "code",
   "execution_count": null,
   "id": "66b2d4a9-8441-41c3-a4cb-285c53a8f8e5",
   "metadata": {},
   "outputs": [],
   "source": [
    "# Filtro de producto\n",
    "df_filtered = df_con_outliers[df_con_outliers['ItemCode'].isin(['1001005059'])]\n",
    "#df_filtered['ItemCode'].value_counts()"
   ]
  },
  {
   "cell_type": "code",
   "execution_count": null,
   "id": "0b5d1235-c72d-4e38-8005-d01aee21e2a6",
   "metadata": {},
   "outputs": [],
   "source": [
    "# Función para Graficas Outlier\n",
    "import matplotlib.pyplot as plt\n",
    "\n",
    "def graficar_outliers(serie, outliers):\n",
    "    \"\"\"\n",
    "    Graficar la Serie de Tiempo y superponer los outliers detectados.\n",
    "    \n",
    "    Parámetros:\n",
    "    - serie: Serie de tiempo (pandas Series)\n",
    "    - outliers: Serie de outliers detectados (pandas Series)\n",
    "    \"\"\"\n",
    "    \n",
    "    plt.figure(figsize=(14,6))\n",
    "    \n",
    "    # Graficar la serie de tiempo\n",
    "    plt.plot(serie.index, serie.values, label='Serie de Tiempo', color='blue', alpha=0.7)\n",
    "    \n",
    "    # Graficar los outliers detectados\n",
    "    plt.scatter(outliers.index, outliers.values, color='red', label='Outliers', s=50)\n",
    "    \n",
    "    # Ajustar etiquetas y leyenda\n",
    "    plt.xlabel('Fecha')\n",
    "    plt.ylabel('Valores')\n",
    "    plt.title('Serie de Tiempo con Outliers Detectados', fontsize=14)\n",
    "    plt.xticks(rotation=45)\n",
    "    plt.legend()\n",
    "    plt.grid(True)\n",
    "    plt.tight_layout()\n",
    "    plt.show()"
   ]
  },
  {
   "cell_type": "code",
   "execution_count": null,
   "id": "b026efac-dd16-4a33-9613-059be14bce70",
   "metadata": {},
   "outputs": [],
   "source": [
    "serie = df_filtered['Quantity']\n",
    "outliers = df_filtered['Outlier'].dropna()\n",
    "\n",
    "graficar_outliers(serie, outliers)"
   ]
  },
  {
   "cell_type": "code",
   "execution_count": null,
   "id": "4318b691-eb12-427a-8650-f0000891f8f5",
   "metadata": {},
   "outputs": [],
   "source": []
  },
  {
   "cell_type": "code",
   "execution_count": null,
   "id": "90c5fde9-cca2-4563-b613-8e1eeeef46f5",
   "metadata": {},
   "outputs": [],
   "source": []
  }
 ],
 "metadata": {
  "kernelspec": {
   "display_name": "Python 3 (ipykernel)",
   "language": "python",
   "name": "python3"
  },
  "language_info": {
   "codemirror_mode": {
    "name": "ipython",
    "version": 3
   },
   "file_extension": ".py",
   "mimetype": "text/x-python",
   "name": "python",
   "nbconvert_exporter": "python",
   "pygments_lexer": "ipython3",
   "version": "3.9.19"
  }
 },
 "nbformat": 4,
 "nbformat_minor": 5
}
