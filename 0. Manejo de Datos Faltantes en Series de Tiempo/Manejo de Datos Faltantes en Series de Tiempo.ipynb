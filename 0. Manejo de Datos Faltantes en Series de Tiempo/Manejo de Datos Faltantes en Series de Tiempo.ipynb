{
 "cells": [
  {
   "cell_type": "code",
   "execution_count": 1,
   "id": "d7c9e0a2-41ee-4cea-9da2-d264e2fb795a",
   "metadata": {},
   "outputs": [],
   "source": [
    "import pandas as pd"
   ]
  },
  {
   "cell_type": "markdown",
   "id": "17f7e50e-1bb9-4901-ae6d-f8302b1c185c",
   "metadata": {},
   "source": [
    "# MANEJO DE DATOS FALTANTES"
   ]
  },
  {
   "cell_type": "markdown",
   "id": "39283ca6-6ffe-46e4-b8a9-38855c528ba0",
   "metadata": {},
   "source": [
    "## Situación 1: observaciones faltantes"
   ]
  },
  {
   "cell_type": "code",
   "execution_count": 423,
   "id": "5faa428f-4c08-4e5e-856e-b353272a4078",
   "metadata": {},
   "outputs": [
    {
     "data": {
      "text/plain": [
       "ItemCode    0\n",
       "Quantity    0\n",
       "dtype: int64"
      ]
     },
     "execution_count": 423,
     "metadata": {},
     "output_type": "execute_result"
    }
   ],
   "source": [
    "# Realizar un conteo de datos faltantes en la(s) columna(s) de interés deuvelve el total con NA:\n",
    "df.isna().sum()"
   ]
  },
  {
   "cell_type": "code",
   "execution_count": 425,
   "id": "bf550c15-5f60-4afc-bb46-e390cbc5a45f",
   "metadata": {},
   "outputs": [
    {
     "data": {
      "text/plain": [
       "DatetimeIndex([], dtype='datetime64[ns]', name='DocDate', freq=None)"
      ]
     },
     "execution_count": 425,
     "metadata": {},
     "output_type": "execute_result"
    }
   ],
   "source": [
    "## Para saber cuáles son los índices con observaciones faltantes:\n",
    "ind_falt = df[df['Quantity'].isna()].index\n",
    "ind_falt"
   ]
  },
  {
   "cell_type": "markdown",
   "id": "9a4d5ad2-08ac-495f-be08-1e255fbcb17f",
   "metadata": {},
   "source": [
    "## Situación 2: marcas de tiempo faltantes"
   ]
  },
  {
   "cell_type": "markdown",
   "id": "e2c6eb56-94df-4f5b-b817-27cdb2b73846",
   "metadata": {},
   "source": [
    "Detección de marcas de tiempo faltantes \n",
    "Podemos usar una variantes del método anterior (\"isna()\" combinado con \"sum()\") para detectar marcas de tiempo (tipo NaT) faltantes. \n",
    "Simplemente extraemos primero el índice del DataFrame y luego si usamos los dos métodos anteriores:"
   ]
  },
  {
   "cell_type": "code",
   "execution_count": 426,
   "id": "527873e4-b6ea-43e1-b9cb-f89ab738521a",
   "metadata": {},
   "outputs": [
    {
     "data": {
      "text/plain": [
       "0"
      ]
     },
     "execution_count": 426,
     "metadata": {},
     "output_type": "execute_result"
    }
   ],
   "source": [
    "df.index.isna().sum()"
   ]
  },
  {
   "cell_type": "markdown",
   "id": "f1d52a7d-f896-497f-82fd-ce55a9e34b9f",
   "metadata": {},
   "source": [
    "## Situación 3: marcas de tiempo faltantes \"ocultas\"\n",
    "\n",
    "Esta situación es similar a la anterior. Sin embargo, en principio ninguna marca de tiempo aparece etiquetada como *NaT*. Son fechas que no existen en el df"
   ]
  },
  {
   "cell_type": "markdown",
   "id": "c81efd55-fac5-4a37-b79e-ed4a83756248",
   "metadata": {},
   "source": [
    "Vemos que hay un \"santo de fechas\" entre 2008-04-03 y 2008-04-05. Es decir que la Serie de Tiempo tiene una frecuencia diaria pero esta frecuencia no se mantiene para 2008-04-04.\n",
    "\n",
    "En este caso Pandas lee la Serie de Tiempo de manera correcta y **no aparecerán marcas faltantes etiquetadas con *NaT***.\n",
    "\n",
    "### Detección usando el método \"difference\"\n",
    "\n",
    "En este caso la idea es:\n",
    "\n",
    "1. Crear un rango ideal de fechas\n",
    "2. Usar \"difference\" para encontrar las diferencias entre este rango y el índice original del DataFrame"
   ]
  },
  {
   "cell_type": "code",
   "execution_count": 430,
   "id": "089f0670-32ba-4a69-b2ad-05eaf29e94ab",
   "metadata": {},
   "outputs": [
    {
     "data": {
      "text/plain": [
       "DatetimeIndex(['2024-01-02', '2024-01-03', '2024-01-04', '2024-01-05',\n",
       "               '2024-01-06', '2024-01-07', '2024-01-08', '2024-01-09',\n",
       "               '2024-01-10', '2024-01-11',\n",
       "               ...\n",
       "               '2024-12-22', '2024-12-23', '2024-12-24', '2024-12-25',\n",
       "               '2024-12-26', '2024-12-27', '2024-12-28', '2024-12-29',\n",
       "               '2024-12-30', '2024-12-31'],\n",
       "              dtype='datetime64[ns]', length=365, freq='D')"
      ]
     },
     "execution_count": 430,
     "metadata": {},
     "output_type": "execute_result"
    }
   ],
   "source": [
    "# 1. Crear un rango completo de fechas\n",
    "rango_fechas = pd.date_range(start=df.index.min(), end=df.index.max(), freq='D')\n",
    "rango_fechas"
   ]
  },
  {
   "cell_type": "code",
   "execution_count": 432,
   "id": "8138e00e-6d98-4503-a457-41812aab1907",
   "metadata": {},
   "outputs": [
    {
     "data": {
      "text/plain": [
       "DatetimeIndex([], dtype='datetime64[ns]', freq=None)"
      ]
     },
     "execution_count": 432,
     "metadata": {},
     "output_type": "execute_result"
    }
   ],
   "source": [
    "# 2. Usar \"difference\" para encontrar las diferencias entre este rango y el índice original del *DataFrame*\n",
    "rango_fechas.difference(df.index)"
   ]
  }
 ],
 "metadata": {
  "kernelspec": {
   "display_name": "Python 3 (ipykernel)",
   "language": "python",
   "name": "python3"
  },
  "language_info": {
   "codemirror_mode": {
    "name": "ipython",
    "version": 3
   },
   "file_extension": ".py",
   "mimetype": "text/x-python",
   "name": "python",
   "nbconvert_exporter": "python",
   "pygments_lexer": "ipython3",
   "version": "3.9.19"
  }
 },
 "nbformat": 4,
 "nbformat_minor": 5
}
